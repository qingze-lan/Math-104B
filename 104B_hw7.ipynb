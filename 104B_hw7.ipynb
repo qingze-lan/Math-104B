{
 "cells": [
  {
   "cell_type": "markdown",
   "metadata": {},
   "source": [
    "# Math 104B HW 7\n",
    "\n",
    "## Qingze Lan   3046380"
   ]
  },
  {
   "cell_type": "code",
   "execution_count": 1,
   "metadata": {},
   "outputs": [],
   "source": [
    "from numpy import zeros, linspace, sin, dot, concatenate\n",
    "from numpy.linalg import norm\n",
    "from time import time\n",
    "from math import pi\n",
    "from pandas import DataFrame\n",
    "import matplotlib.pyplot as plt"
   ]
  },
  {
   "cell_type": "markdown",
   "metadata": {},
   "source": [
    "### Problem 1"
   ]
  },
  {
   "cell_type": "markdown",
   "metadata": {},
   "source": [
    "The search directions in the steepest descent method are given by: $v^{(k)} = -\\nabla J(x^{(k)}) = b - Ax^{(k)} = r^{(k)}$. \n",
    "\n",
    "The optimal step length in each step is given by:\n",
    "$$t_k = \\frac{\\langle r^{(k)},r^{(k)}\\rangle}{\\langle r^{(k)},Ar^{(k)}\\rangle}$$\n",
    "Then, for consecutive search directions one has:\n",
    "\n",
    "$$\\langle v^{(k+1)}, v^{(k)}\\rangle = \\langle r^{(k+1)},r^{(k)}\\rangle = \\langle b-Ax^{(k+1)},r^{(k)}\\rangle = \\langle \n",
    "r^{(k)} - t_kAr^{(k)},r^{(k)}\\rangle = \\langle r^{(k)},r^{(k)}\\rangle - t_k \\langle r^{(k)}, Ar^{(k)}\\rangle =0$$\n",
    "\n",
    "because of the formula for $t_k$ and because $x^{(k+1)} = x^{(k)} + t_kr^{k}$."
   ]
  },
  {
   "cell_type": "markdown",
   "metadata": {},
   "source": [
    "### Problem 2"
   ]
  },
  {
   "cell_type": "markdown",
   "metadata": {},
   "source": [
    "We'll consider the Krylov subspace $\\mathcal{K}_k(r^{(0)},A) = \\text{span}\\{r^{(0)},\\ldots,r^{(k-1)}\\}$. We know that \n",
    "\n",
    "$$\\text{span}\\{r^{(0)},\\ldots,r^{(k-1)}\\}=\\text{span}\\{v^{(0)},\\ldots,v^{(k-1)}\\}$$\n",
    "\n",
    "Also:\n",
    "\n",
    "$$\\text{span}\\{r^{(0)},\\ldots,r^{(k)}\\}=\\text{span}\\{v^{(0)},\\ldots,v^{(k)}\\}$$ \n",
    "\n",
    "but since $v^{(k)} = 0$ \n",
    "\n",
    "we have:\n",
    "\n",
    "$$\\text{span}\\{r^{(0)},\\ldots,r^{(k-1)}\\}=\\text{span}\\{r^{(0)},\\ldots,r^{(k)}\\}$$ \n",
    "\n",
    "and then $r^{(k)}\\in\\mathcal{K}_k(r^{(0)},A)$. But since all the residuals in the conjugate gradient method are orthogonal and thus linearly independent it has to be $r^{(k)} = 0\\implies Ax^{(k)} = b$."
   ]
  },
  {
   "cell_type": "markdown",
   "metadata": {},
   "source": [
    "### Problem 3"
   ]
  },
  {
   "cell_type": "markdown",
   "metadata": {},
   "source": [
    "Given that \n",
    "\n",
    "$$\\frac{-v_{j-1}+2v_j-v_{j+1}}{h^2}+\\pi^2v_j = 2\\pi^2\\sin(\\pi x_j),\\;\\;\\; j = 1,\\ldots,N-1$$\n",
    "\n",
    "Equivalently:\n",
    "\n",
    "$$\\frac{1}{2\\pi^2h^2}\\begin{bmatrix}\n",
    "    2+h^2\\pi^2 & -1 & 0   & \\dots  & 0   \\\\\n",
    "     -1 &    2+h^2\\pi^2    & -1   & \\dots  & 0   \\\\\n",
    "     0 &      \\ddots   & \\ddots & \\ddots    & \\vdots    \\\\\n",
    "      \\vdots &         &  &    & \\vdots    \\\\\n",
    "      &         &      -1     &     2+h^2\\pi^2    & -1   \\\\\n",
    "      0&         &        0   &      -1     & 2+h^2\\pi^2 \\\\\n",
    "  \\end{bmatrix}\\begin{bmatrix}\n",
    "  v_1 \\\\\n",
    "  v_2 \\\\\n",
    " \\vdots \\\\\n",
    " \\\\\\vdots \\\\\n",
    " v_{N-1}\\\\\n",
    "  \\end{bmatrix} = \\begin{bmatrix}\n",
    "  \\sin(\\pi x_1) \\\\\n",
    "  \\sin(\\pi x_2)\\\\\n",
    " \\vdots \\\\\n",
    " \\\\\\vdots \\\\\n",
    " \\sin(\\pi x_{N-1})\\\\\n",
    "  \\end{bmatrix}$$\n",
    "  \n",
    "We'll implement the conjugate gradient method to find an approximated solution to the BVP problem using a grid of $N+1$ points for $N=50,100,200$."
   ]
  },
  {
   "cell_type": "code",
   "execution_count": 2,
   "metadata": {},
   "outputs": [],
   "source": [
    "# Product Ax for A tridiagonal\n",
    "# INPUT: x\n",
    "# OUTPUT: Ax\n",
    "# Qingze Lan\n",
    "# 03/10/2021\n",
    "\n",
    "def A_dot(A,x):\n",
    "    Ax = zeros(x.size)\n",
    "    Ax[0] = A[0,0]*x[0] + A[0,1]*x[1]\n",
    "    Ax[-1] = A[-1,-1]*x[-1] + A[-1,-2]*x[-2]\n",
    "    for i in range(1,len(Ax) - 1):\n",
    "        Ax[i] = A[i,i-1]*x[i-1] + A[i,i]*x[i] + A[i,i+1]*x[i+1]\n",
    "    return Ax\n",
    "\n",
    "# Defining matrix of BVP problem\n",
    "# INPUT: N\n",
    "# OUTPUT: A (matrix)\n",
    "# Qingze Lan\n",
    "# 03/10/2021\n",
    "\n",
    "def bvp_A(N):\n",
    "    h = 1/N\n",
    "    A = zeros((N - 1, N - 1))\n",
    "    for i in range(0, N - 1):\n",
    "        A[i,i] = 2 + h**2*pi**2\n",
    "        if i > 0:\n",
    "            A[i, i - 1] = -1\n",
    "            A[i - 1, i] = -1\n",
    "    A *= 1/2/h**2/pi**2\n",
    "    return A\n",
    "\n",
    "# Conjugate gradient method with zero vector as initial guess\n",
    "# for the linear system above\n",
    "# INPUT: N\n",
    "# OUTPUT: v (approximated solution)\n",
    "# Qingze Lan\n",
    "# 03/10/2021\n",
    "\n",
    "def conj_grad(N):\n",
    "    tic = time()\n",
    "    TOL = N**(-2)\n",
    "    x = zeros(N - 1)\n",
    "    b = sin( pi*linspace(0,1,N+1)[1:-1] )\n",
    "    A = bvp_A(N)\n",
    "    adot = lambda y: A_dot(A,y)\n",
    "    r = b - adot( x )\n",
    "    v = r\n",
    "    k = 0\n",
    "    while norm(r) > TOL: # at most N - 1 iterations\n",
    "        av = adot(v)\n",
    "        t = dot(r,r)/dot(v,av)\n",
    "        x += t*v\n",
    "        r_p = r.copy()\n",
    "        r -= t*av\n",
    "        s = dot(r,r)/dot(r_p,r_p)\n",
    "        v *= s\n",
    "        v += r\n",
    "        k += 1\n",
    "    print('Solution found in %i iterations for N = %i' % (k,N))\n",
    "    print('TIME: %.15f s' % (time() - tic))\n",
    "    return x"
   ]
  },
  {
   "cell_type": "code",
   "execution_count": 3,
   "metadata": {},
   "outputs": [
    {
     "name": "stdout",
     "output_type": "stream",
     "text": [
      "Solution found in 1 iterations for N = 50\n",
      "TIME: 0.005520820617676 s\n",
      "Solution found in 1 iterations for N = 100\n",
      "TIME: 0.000665187835693 s\n",
      "Solution found in 1 iterations for N = 200\n",
      "TIME: 0.003356933593750 s\n"
     ]
    },
    {
     "data": {
      "image/png": "[encoded data removed]",
      "text/plain": [
       "<Figure size 432x288 with 1 Axes>"
      ]
     },
     "metadata": {
      "needs_background": "light"
     },
     "output_type": "display_data"
    },
    {
     "data": {
      "image/png": "[encoded data removed]",
      "text/plain": [
       "<Figure size 432x288 with 1 Axes>"
      ]
     },
     "metadata": {
      "needs_background": "light"
     },
     "output_type": "display_data"
    },
    {
     "data": {
      "image/png": "[encoded data removed]",
      "text/plain": [
       "<Figure size 432x288 with 1 Axes>"
      ]
     },
     "metadata": {
      "needs_background": "light"
     },
     "output_type": "display_data"
    },
    {
     "data": {
      "text/html": [
       "<div>\n",
       "<style scoped>\n",
       "    .dataframe tbody tr th:only-of-type {\n",
       "        vertical-align: middle;\n",
       "    }\n",
       "\n",
       "    .dataframe tbody tr th {\n",
       "        vertical-align: top;\n",
       "    }\n",
       "\n",
       "    .dataframe thead th {\n",
       "        text-align: right;\n",
       "    }\n",
       "</style>\n",
       "<table border=\"1\" class=\"dataframe\">\n",
       "  <thead>\n",
       "    <tr style=\"text-align: right;\">\n",
       "      <th></th>\n",
       "      <th>$N$</th>\n",
       "      <th>Error</th>\n",
       "    </tr>\n",
       "  </thead>\n",
       "  <tbody>\n",
       "    <tr>\n",
       "      <th>0</th>\n",
       "      <td>50</td>\n",
       "      <td>0.000822</td>\n",
       "    </tr>\n",
       "    <tr>\n",
       "      <th>1</th>\n",
       "      <td>100</td>\n",
       "      <td>0.000291</td>\n",
       "    </tr>\n",
       "    <tr>\n",
       "      <th>2</th>\n",
       "      <td>200</td>\n",
       "      <td>0.000103</td>\n",
       "    </tr>\n",
       "  </tbody>\n",
       "</table>\n",
       "</div>"
      ],
      "text/plain": [
       "   $N$     Error\n",
       "0   50  0.000822\n",
       "1  100  0.000291\n",
       "2  200  0.000103"
      ]
     },
     "execution_count": 3,
     "metadata": {},
     "output_type": "execute_result"
    }
   ],
   "source": [
    "# Finding solutions conjugate gradient method\n",
    "n = [50,100,200]\n",
    "\n",
    "x = [linspace(0,1,N + 1) for N in n]\n",
    "u = [sin(pi*y) for y in x]\n",
    "v = [concatenate([[0],conj_grad(N),[0]]) for N in n]\n",
    "errors = []\n",
    "\n",
    "for i in range(0,len(n)):\n",
    "    errors.append(norm(u[i]-v[i]))\n",
    "    plt.plot(x[i],v[i], color = 'black', linewidth = 1)\n",
    "    plt.title('N = %i' % n[i])\n",
    "    plt.xlabel('$x$')\n",
    "    plt.ylabel('$u$')\n",
    "    plt.show()\n",
    "\n",
    "data = {'$N$':n, 'Error': errors}\n",
    "DataFrame(data)"
   ]
  },
  {
   "cell_type": "markdown",
   "metadata": {},
   "source": [
    "In the three cases only 1 iteration is needed for a good enough approximation. We set the tolerance to be $h^2$ since this is the order of the error we make when discretizing the BVP problem. Also this error is expected to be $O(h^2)$. When doubling the value of $N$ we should expect the error to becomes four times smaller. The result is slightly worse than this.\n",
    "\n",
    "We can compare it with the performance of Jacobi's method."
   ]
  },
  {
   "cell_type": "code",
   "execution_count": 4,
   "metadata": {},
   "outputs": [],
   "source": [
    "# Jacobi's method for the bvp problem above\n",
    "# with initial guess 0 vector\n",
    "# INPUT: N\n",
    "# OUTPUT: v (approximated solution)\n",
    "# Qingze Lan\n",
    "# 03/10/2021\n",
    "\n",
    "def jacobi(N):\n",
    "    tic = time()\n",
    "    A = bvp_A(N)\n",
    "    TOL = N**(-2)\n",
    "    adot = lambda y: A_dot(A,y)\n",
    "    x = zeros(N - 1)\n",
    "    b = sin(pi*linspace(0,1,N + 1)[1:-1])\n",
    "    k = 0\n",
    "    kmax = 1e6 # max number of iterations\n",
    "    while norm(b - adot(x)) > TOL and k < kmax:\n",
    "        x[0] = (b[0] - A[0,1]*x[1])/A[0,0]\n",
    "        x[-1] = (b[-1] - A[-1,-2]*x[-2])/A[-1,-1]\n",
    "        for i in range(1, len(x) - 1):\n",
    "            x[i] = (b[i] - A[i,i - 1]*x[i - 1] - A[i,i + 1]*x[i + 1])/A[i,i]\n",
    "        k += 1\n",
    "    print('Solution found in %i iterations for N = %i' % (k,N))\n",
    "    print('TIME: %.15f s' % (time() - tic))\n",
    "    return x"
   ]
  },
  {
   "cell_type": "code",
   "execution_count": 5,
   "metadata": {},
   "outputs": [
    {
     "name": "stdout",
     "output_type": "stream",
     "text": [
      "Solution found in 1196 iterations for N = 50\n",
      "TIME: 0.225564718246460 s\n",
      "Solution found in 5659 iterations for N = 100\n",
      "TIME: 1.753199100494385 s\n",
      "Solution found in 26141 iterations for N = 200\n",
      "TIME: 16.590779066085815 s\n"
     ]
    },
    {
     "data": {
      "image/png": "[encoded data removed]",
      "text/plain": [
       "<Figure size 432x288 with 1 Axes>"
      ]
     },
     "metadata": {
      "needs_background": "light"
     },
     "output_type": "display_data"
    },
    {
     "data": {
      "image/png": "[encoded data removed]",
      "text/plain": [
       "<Figure size 432x288 with 1 Axes>"
      ]
     },
     "metadata": {
      "needs_background": "light"
     },
     "output_type": "display_data"
    },
    {
     "data": {
      "image/png": "[encoded data removed]",
      "text/plain": [
       "<Figure size 432x288 with 1 Axes>"
      ]
     },
     "metadata": {
      "needs_background": "light"
     },
     "output_type": "display_data"
    },
    {
     "data": {
      "text/html": [
       "<div>\n",
       "<style scoped>\n",
       "    .dataframe tbody tr th:only-of-type {\n",
       "        vertical-align: middle;\n",
       "    }\n",
       "\n",
       "    .dataframe tbody tr th {\n",
       "        vertical-align: top;\n",
       "    }\n",
       "\n",
       "    .dataframe thead th {\n",
       "        text-align: right;\n",
       "    }\n",
       "</style>\n",
       "<table border=\"1\" class=\"dataframe\">\n",
       "  <thead>\n",
       "    <tr style=\"text-align: right;\">\n",
       "      <th></th>\n",
       "      <th>$N$</th>\n",
       "      <th>Error</th>\n",
       "    </tr>\n",
       "  </thead>\n",
       "  <tbody>\n",
       "    <tr>\n",
       "      <th>0</th>\n",
       "      <td>50</td>\n",
       "      <td>0.000425</td>\n",
       "    </tr>\n",
       "    <tr>\n",
       "      <th>1</th>\n",
       "      <td>100</td>\n",
       "      <td>0.000191</td>\n",
       "    </tr>\n",
       "    <tr>\n",
       "      <th>2</th>\n",
       "      <td>200</td>\n",
       "      <td>0.000078</td>\n",
       "    </tr>\n",
       "  </tbody>\n",
       "</table>\n",
       "</div>"
      ],
      "text/plain": [
       "   $N$     Error\n",
       "0   50  0.000425\n",
       "1  100  0.000191\n",
       "2  200  0.000078"
      ]
     },
     "execution_count": 5,
     "metadata": {},
     "output_type": "execute_result"
    }
   ],
   "source": [
    "# Finding solutions Jacobi's method\n",
    "n = [50,100,200]\n",
    "\n",
    "x = [linspace(0,1,N + 1) for N in n]\n",
    "u = [sin(pi*y) for y in x]\n",
    "v = [concatenate([[0],jacobi(N),[0]]) for N in n]\n",
    "errors = []\n",
    "\n",
    "for i in range(0,len(n)):\n",
    "    errors.append(norm(u[i]-v[i]))\n",
    "    plt.plot(x[i],v[i], color = 'black', linewidth = 1)\n",
    "    plt.title('N = %i' % n[i])\n",
    "    plt.xlabel('$x$')\n",
    "    plt.ylabel('$u$')\n",
    "    plt.show()\n",
    "\n",
    "data = {'$N$':n, 'Error': errors}\n",
    "DataFrame(data)"
   ]
  },
  {
   "cell_type": "markdown",
   "metadata": {},
   "source": [
    "Therefore, both methods arrive to approximations to the exact solutions. \n",
    "However, the performance of the conjugate gradient method is considerably better."
   ]
  }
 ],
 "metadata": {
  "kernelspec": {
   "display_name": "Python 3",
   "language": "python",
   "name": "python3"
  },
  "language_info": {
   "codemirror_mode": {
    "name": "ipython",
    "version": 3
   },
   "file_extension": ".py",
   "mimetype": "text/x-python",
   "name": "python",
   "nbconvert_exporter": "python",
   "pygments_lexer": "ipython3",
   "version": "3.8.3"
  }
 },
 "nbformat": 4,
 "nbformat_minor": 4
}
