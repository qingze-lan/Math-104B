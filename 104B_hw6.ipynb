{
 "cells": [
  {
   "cell_type": "markdown",
   "metadata": {},
   "source": [
    "# Math 104B HW 6\n",
    "\n",
    "## Qingze Lan   3046380"
   ]
  },
  {
   "cell_type": "code",
   "execution_count": 1,
   "metadata": {},
   "outputs": [],
   "source": [
    "from numpy import zeros, array, dot, linspace, sin, pi, concatenate\n",
    "from numpy.linalg import norm\n",
    "import matplotlib.pyplot as plt\n",
    "from pandas import DataFrame"
   ]
  },
  {
   "cell_type": "markdown",
   "metadata": {},
   "source": [
    "### Problem 1\n",
    "(a)"
   ]
  },
  {
   "cell_type": "code",
   "execution_count": 3,
   "metadata": {},
   "outputs": [],
   "source": [
    "# Solving tridiagonal systems of linear equations\n",
    "\n",
    "# Solving upper diagonal system Ux = y\n",
    "# INPUT: U (linear system matrix, upper diagonal), \n",
    "# y (column vector)\n",
    "# OUTPUT: x (unkowns column vector)\n",
    "# Qingze Lan\n",
    "# 03/02/2021\n",
    "def linear_u_solver(U,y):\n",
    "    x = zeros( len(y) )\n",
    "    for i in range(len(y)-1,-1,-1):\n",
    "        coef = [U[i][j]*x[j] for j in range(len(y)-1,i,-1)]\n",
    "        x[i] = ( y[i]-sum(coef) )/U[i][i]\n",
    "    return x\n",
    "\n",
    "# Solving lower diagonal system Lx = y\n",
    "# INPUT: L (linear system matrix, lower diagonal), \n",
    "# y (column vector)\n",
    "# OUTPUT: x (unkowns column vector)\n",
    "# Qingze Lan\n",
    "# 03/02/2021\n",
    "def linear_l_solver(U,y):\n",
    "    x = zeros( len(y) )\n",
    "    for i in range(0,len(y)):\n",
    "        coef = [U[i][j]*x[j] for j in range(0,i)]\n",
    "        x[i] = ( y[i]-sum(coef) )/U[i][i]\n",
    "    return x\n",
    "\n",
    "# LU decomposition for tridiagonal system M = LU\n",
    "# INPUT: M (tridiagonal matrix), L, U (zeros matrixes)\n",
    "# OUTPUT: Filling L and U so that:\n",
    "# L is lower diagonal \n",
    "# U is upper diagonal\n",
    "# Qingze Lan\n",
    "# 03/02/2021\n",
    "def LU_dec_tri(M,L,U):\n",
    "    U[0][0] = M[0][0]\n",
    "    L[-1][-1] = 1\n",
    "    for j in range(0,len(M)-1):\n",
    "        L[j][j] = 1\n",
    "        U[j][j+1] = M[j][j+1]\n",
    "        L[j+1][j] = M[j+1][j]/U[j][j]\n",
    "        U[j+1][j+1] = M[j+1][j+1] - L[j+1][j]*M[j][j+1]\n",
    "\n",
    "# Solving a tridiagonal system Mx = y\n",
    "# INPUT: A (tridiagonal matrix), y (column vector)\n",
    "# OUTPUT: x (unknown column vector)\n",
    "# Qingze Lan\n",
    "# 03/02/2021\n",
    "def linear_tri_solver(M,y):\n",
    "    L = zeros( (len(M),len(M)) )\n",
    "    U = zeros( (len(M),len(M)) )\n",
    "    LU_dec_tri(M,L,U)\n",
    "    u = linear_l_solver(L,y)\n",
    "    x = linear_u_solver(U,u)\n",
    "    return x"
   ]
  },
  {
   "cell_type": "markdown",
   "metadata": {},
   "source": [
    "(b)\n",
    "We can test our code with $$\\begin{bmatrix}\n",
    "    1 & 2 & 0 & 0 \\\\\n",
    "     2 & 1 & 2 & 0 \\\\\n",
    "      0 & 2 & 1 & 2 \\\\\n",
    "       0 & 0 & 2 & 1 \\\\ \n",
    "\\end{bmatrix}x=\\begin{bmatrix}\n",
    "    5  \\\\\n",
    "     0  \\\\\n",
    "      1 \\\\\n",
    "       0 \\\\\n",
    "\\end{bmatrix}$$"
   ]
  },
  {
   "cell_type": "code",
   "execution_count": 4,
   "metadata": {},
   "outputs": [
    {
     "name": "stdout",
     "output_type": "stream",
     "text": [
      "Solution to Ax = b\n",
      "[-6.2  5.6  3.4 -6.8]\n",
      "\n",
      "The product Ax gives us\n",
      "[5.00000000e+00 1.77635684e-15 1.00000000e+00 0.00000000e+00]\n"
     ]
    }
   ],
   "source": [
    "m_1 = array([[1.,2.,0.,0.],[2.,1.,2.,0.],[0.,2.,1.,2.],[0.,0.,2.,1.]])\n",
    "y_1 = array([5.,0.,1.,0.])\n",
    "\n",
    "x_1 = linear_tri_solver(m_1,y_1)\n",
    "print('Solution to Ax = b')\n",
    "print(x_1)\n",
    "\n",
    "print('\\nThe product Ax gives us')\n",
    "print(dot(m_1,x_1))"
   ]
  },
  {
   "cell_type": "markdown",
   "metadata": {},
   "source": [
    "### Problem 2\n",
    "(a)\n",
    "Consider the boundry value problem:\n",
    "\n",
    "$$-u''+\\pi^2u=2\\pi^2\\sin(\\pi x),\\;\\;\\;0<x<1$$\n",
    "\n",
    "$$u(0) = u(1) = 0$$\n",
    "\n",
    "We can find a numerical approximation to the solution of this problem by employing the finite difference method. \n",
    "\n",
    "We'll approximate the second derivative by a second order finite difference and use a grid of $N+1$ points.\n",
    "\n",
    "Approximating $v_j \\approx u(x_j)$ we need to solve the linear system:\n",
    "\n",
    "$$\\frac{-v_{j-1}+2v_j-v_{j+1}}{h^2}+\\pi^2v_j = 2\\pi^2\\sin(\\pi x_j),\\;\\;\\; j = 1,\\ldots,N-1$$\n",
    "and $v_0 = v_N = 0$."
   ]
  },
  {
   "cell_type": "markdown",
   "metadata": {},
   "source": [
    "Equivalently:\n",
    "$$\\frac{1}{2\\pi^2h^2}\\begin{bmatrix}\n",
    "    2+h^2\\pi^2 & -1 & 0   & \\dots  & 0   \\\\\n",
    "     -1 &    2+h^2\\pi^2    & -1   & \\dots  & 0   \\\\\n",
    "     0 &      \\ddots   & \\ddots & \\ddots    & \\vdots    \\\\\n",
    "      \\vdots &         &  &    & \\vdots    \\\\\n",
    "      &         &      -1     &     2+h^2\\pi^2    & -1   \\\\\n",
    "      0&         &        0   &      -1     & 2+h^2\\pi^2 \\\\\n",
    "  \\end{bmatrix}\\begin{bmatrix}\n",
    "  v_1 \\\\\n",
    "  v_2 \\\\\n",
    " \\vdots \\\\\n",
    " \\\\\\vdots \\\\\n",
    " v_{N-1}\\\\\n",
    "  \\end{bmatrix} = \\begin{bmatrix}\n",
    "  \\sin(\\pi x_1) \\\\\n",
    "  \\sin(\\pi x_2)\\\\\n",
    " \\vdots \\\\\n",
    " \\\\\\vdots \\\\\n",
    " \\sin(\\pi x_{N-1})\\\\\n",
    "  \\end{bmatrix}$$\n",
    "  \n",
    "  We'll use our tridiagonal solver"
   ]
  },
  {
   "cell_type": "code",
   "execution_count": 5,
   "metadata": {},
   "outputs": [
    {
     "data": {
      "image/png": "[encoded data removed]",
      "text/plain": [
       "<Figure size 432x288 with 1 Axes>"
      ]
     },
     "metadata": {
      "needs_background": "light"
     },
     "output_type": "display_data"
    }
   ],
   "source": [
    "# Solving the boundry value problem\n",
    "# INPUT: N (grid dim)\n",
    "# OUTPUT: u (approximated solution)\n",
    "# Qingze Lan\n",
    "# 03/02/2021\n",
    "    \n",
    "def bvp_solver(N):\n",
    "    x = linspace(0,1,N + 1)\n",
    "    h = 1/N\n",
    "    A = zeros((N - 1, N - 1))\n",
    "    for i in range(0, N - 1):\n",
    "        A[i,i] = 2 + h**2*pi**2\n",
    "        if i > 0:\n",
    "            A[i, i - 1] = -1\n",
    "            A[i - 1, i] = -1\n",
    "    return linear_tri_solver(1/2/h**2/pi**2*A, sin(pi*x)[1:-1])\n",
    "\n",
    "# N = 50\n",
    "N1 = 50\n",
    "u1 = concatenate([[0],bvp_solver(N1),[0]])\n",
    "x1 = linspace(0,1,N1 + 1)\n",
    "\n",
    "# Plotting the results\n",
    "\n",
    "plt.plot(x1,u1, color = 'black', linewidth = 1)\n",
    "plt.xlabel('$x$')\n",
    "plt.ylabel('$u$')\n",
    "plt.show()"
   ]
  },
  {
   "cell_type": "markdown",
   "metadata": {},
   "source": [
    "(b) The exact solution is $u(x) = \\sin(\\pi x)$. \n",
    "\n",
    "Since\n",
    "$$u(0) = \\sin(0) = u(1) = \\sin(\\pi) = 0$$\n",
    "\n",
    "$$u''(x) = -\\pi^2u(x)\\implies -u''+\\pi^2u = 2\\pi^2 u = 2\\pi^2\\sin(\\pi x)$$"
   ]
  },
  {
   "cell_type": "markdown",
   "metadata": {},
   "source": [
    "(c) Computing error in the $2$-norm. We'll solve again the linear system and we'll compare the errors for $N = 50,100$. \n",
    "\n",
    "Since expected numerical error is $O(h^2) = O(N^{-2})$, by doubling N we expect the error to become 4 times smaller."
   ]
  },
  {
   "cell_type": "code",
   "execution_count": 6,
   "metadata": {},
   "outputs": [
    {
     "data": {
      "text/html": [
       "<div>\n",
       "<style scoped>\n",
       "    .dataframe tbody tr th:only-of-type {\n",
       "        vertical-align: middle;\n",
       "    }\n",
       "\n",
       "    .dataframe tbody tr th {\n",
       "        vertical-align: top;\n",
       "    }\n",
       "\n",
       "    .dataframe thead th {\n",
       "        text-align: right;\n",
       "    }\n",
       "</style>\n",
       "<table border=\"1\" class=\"dataframe\">\n",
       "  <thead>\n",
       "    <tr style=\"text-align: right;\">\n",
       "      <th></th>\n",
       "      <th>$N$</th>\n",
       "      <th>Error</th>\n",
       "    </tr>\n",
       "  </thead>\n",
       "  <tbody>\n",
       "    <tr>\n",
       "      <th>0</th>\n",
       "      <td>50</td>\n",
       "      <td>0.000822</td>\n",
       "    </tr>\n",
       "    <tr>\n",
       "      <th>1</th>\n",
       "      <td>100</td>\n",
       "      <td>0.000291</td>\n",
       "    </tr>\n",
       "  </tbody>\n",
       "</table>\n",
       "</div>"
      ],
      "text/plain": [
       "   $N$     Error\n",
       "0   50  0.000822\n",
       "1  100  0.000291"
      ]
     },
     "execution_count": 6,
     "metadata": {},
     "output_type": "execute_result"
    }
   ],
   "source": [
    "# N = 100\n",
    "N2 = 100\n",
    "u2 = concatenate([[0],bvp_solver(N2),[0]])\n",
    "\n",
    "# Exact solutions\n",
    "u1r = sin(pi*linspace(0,1,N1 + 1))\n",
    "u2r = sin(pi*linspace(0,1,N2 + 1))\n",
    "\n",
    "# Errors\n",
    "data = {'$N$':[N1,N2], 'Error': [norm(u1r-u1),norm(u2r-u2)] }\n",
    "DataFrame(data)"
   ]
  },
  {
   "cell_type": "markdown",
   "metadata": {},
   "source": [
    "(d) In real applications we don't know the exact solution, but if we can compute the approximated solution for different $N$, we can estimate when we are close to the exact solution. \n",
    "\n",
    "If $v^{(N)}$ is the approximated solution for a grid of $N$ nodes, we can increase sequentially this $N$ to $N'$ - by a factor of 2, 10 for instance - and check if the relative error is smaller than a fixed tolerance $\\epsilon$, this is:\n",
    "$$\\frac{\\|v^{(N)}-v^{(N')}\\|_{\\infty}}{v^{(N')}}\\leq\\epsilon$$\n",
    "\n",
    "If we increase $N$ always by the same factor, we can easily estimate the rate of convergence.\n",
    "\n",
    "One issue can come up from this, because the discretized approximations $v^{(N)},v^{(N')}$ don't have the same dimension. However, one could consider only the components of each solution corresponding to common points. A better solution would be, give the approximated solution in the form of a spline and then calculate this relative error."
   ]
  },
  {
   "cell_type": "markdown",
   "metadata": {},
   "source": [
    "### Problem 3\n",
    "Consider the linear system:\n",
    "$$\\begin{bmatrix}\n",
    "    1 & -2 & 1 \\\\\n",
    "     2 & 1 & -3 \\\\\n",
    "      1 & -1 & 1 \\\\ \n",
    "\\end{bmatrix}\\begin{bmatrix}\n",
    "    x_1  \\\\\n",
    "     x_2 \\\\\n",
    "      x_3 \\\\\n",
    "\\end{bmatrix} = \\begin{bmatrix}\n",
    "    -1 \\\\\n",
    "     3 \\\\\n",
    "      0 \\\\\n",
    "\\end{bmatrix}$$"
   ]
  },
  {
   "cell_type": "markdown",
   "metadata": {},
   "source": [
    "(a) First two iterationsof Jacobi. The Jacobi iterations are defined by:\n",
    "\n",
    "$$\n",
    "\\begin{bmatrix}\n",
    "    x_1^{(k+1)}  \\\\\n",
    "     x_2^{(k+1)} \\\\\n",
    "      x_3^{(k+1)} \\\\\n",
    "\\end{bmatrix} = \\begin{bmatrix}\n",
    "    0 & 2 & -1 \\\\\n",
    "     -2 & 0 & 3 \\\\\n",
    "      -1 & 1 & 0 \\\\ \n",
    "\\end{bmatrix}\\begin{bmatrix}\n",
    "    x_1^{(k)}  \\\\\n",
    "     x_2^{(k)} \\\\\n",
    "      x_3^{(k)} \\\\\n",
    "\\end{bmatrix} + \\begin{bmatrix}\n",
    "    -1 \\\\\n",
    "     3 \\\\\n",
    "      0 \\\\\n",
    "\\end{bmatrix}\n",
    "\\Leftrightarrow\\mathbf{x}^{(k+1)} = N\\mathbf{x}^{(k)}+\\mathbf{b}$$\n",
    "\n",
    "Starting with an initial guess $\\mathbf{x}^{(0)} = \\mathbf{0}$ we have $\\mathbf{x}^{(2)} = N\\mathbf{x}^{(1)}+\\mathbf{b} = N\\mathbf{b}+\\mathbf{b}$:\n",
    "\n",
    "$$ \\mathbf{x}^{(2)} = \\begin{bmatrix}\n",
    "    1 & 2 & -1 \\\\\n",
    "     -2 & 1 & 3 \\\\\n",
    "      -1 & 1 & 1 \\\\ \n",
    "\\end{bmatrix}\\begin{bmatrix}\n",
    "    -1 \\\\\n",
    "     3 \\\\\n",
    "      0 \\\\\n",
    "\\end{bmatrix} = \\begin{bmatrix}\n",
    "    5 \\\\\n",
    "     5 \\\\\n",
    "      4 \\\\\n",
    "\\end{bmatrix}$$"
   ]
  },
  {
   "cell_type": "markdown",
   "metadata": {},
   "source": [
    "(b) First two Gauss-Seidel iterations. Gauss-Seidel iterations are defined by:\n",
    "\n",
    "$$x_1^{(k+1)} =  2x_2^{(k)} - x_3^{(k)} -1 $$\n",
    "\n",
    "$$x_2^{(k+1)} =  -2x_1^{(k+1)} +3x_3^{(k)} +3 $$\n",
    "\n",
    "$$x_3^{(k+1)} =  -x_1^{(k+1)} + x_2^{(k+1)} $$\n",
    "\n",
    "Using the same initial guess:\n",
    "$$x_1^{(1)} =  -1 $$\n",
    "\n",
    "$$x_2^{(1)} =  2  +3 = 5$$\n",
    "\n",
    "$$x_3^{(1)} =  1 +5 = 6 $$\n",
    "\n",
    "and the second iteration gives us:\n",
    "\n",
    "$$x_1^{(2)} =  10 - 6 -1 = 3$$\n",
    "\n",
    "$$x_2^{(2)} =  -6 + 18 +3 = 15$$\n",
    "\n",
    "$$x_3^{(2)} =  -3 + 15 = 12 $$"
   ]
  },
  {
   "cell_type": "markdown",
   "metadata": {},
   "source": [
    "(c) We'll use the 2-norm to estimate which one is closer.\n",
    "\n",
    "$$\\|\\mathbf{x} -\\mathbf{x}_j\\| = 4\\sqrt{3}$$\n",
    "\n",
    "$$\\|\\mathbf{x} -\\mathbf{x}_{gs}\\| = \\sqrt{344}$$\n",
    "\n",
    "So after two iterations, the approximation given by the Jacobi iteration method is closer to the exact solution $(1,1,0)$."
   ]
  },
  {
   "cell_type": "markdown",
   "metadata": {},
   "source": [
    "### Problem 4\n",
    "Consider the system:\n",
    "$$2x_1-x_2+x_3 = -1$$\n",
    "\n",
    "$$2x_1+2x_2+2x_3 = 4$$\n",
    "\n",
    "$$-x_1-x_2+2x_3 = -5$$"
   ]
  },
  {
   "cell_type": "markdown",
   "metadata": {},
   "source": [
    "The matrices $M\\mathbf{x}^{(k+1)} = N\\mathbf{x}^{(k)} +b$ for the Jacobi and Gauss-Seidel methods are:\n",
    "\n",
    "$$M_j = \\begin{bmatrix}\n",
    "    2 & 0 & 0 \\\\\n",
    "     0 & 2 & 0 \\\\\n",
    "      0 & 0 & 2 \\\\ \n",
    "        \\end{bmatrix}\\;\\;\\;\\; N_j = \\begin{bmatrix}\n",
    "    0 & 1 & -1 \\\\\n",
    "     -2 & 0 & -2 \\\\\n",
    "      1 & 1 & 0 \\\\ \n",
    "\\end{bmatrix}$$\n",
    "\n",
    "$$M_{gs} = \\begin{bmatrix}\n",
    "    2 & 0 & 0 \\\\\n",
    "     2 & 2 & 0 \\\\\n",
    "      -1 & -1 & 2 \\\\ \n",
    "        \\end{bmatrix}\\;\\;\\;\\; N_{gs} = \\begin{bmatrix}\n",
    "    0 & 1 & -1 \\\\\n",
    "     0 & 0 & -2 \\\\\n",
    "      0 & 0 & 0 \\\\ \n",
    "\\end{bmatrix}$$\n",
    "\n",
    "The inverses of the $M$ matrices can be easily found:\n",
    "\n",
    "$$M_j^{-1} = \\begin{bmatrix}\n",
    "    \\frac{1}{2} & 0 & 0 \\\\\n",
    "     0 & \\frac{1}{2} & 0 \\\\\n",
    "      0 & 0 & \\frac{1}{2} \\\\ \n",
    "        \\end{bmatrix},\\;\\;M_{gs}^{-1} = \\begin{bmatrix}\n",
    "    \\frac{1}{2} & 0 & 0 \\\\\n",
    "     -\\frac{1}{2} & \\frac{1}{2} & 0 \\\\\n",
    "      0 & \\frac{1}{4} & \\frac{1}{2} \\\\ \n",
    "        \\end{bmatrix}$$\n",
    "        \n",
    "And now:\n",
    "\n",
    "$$T_{gs} = M_{gs}^{-1}N_{gs} = \\begin{bmatrix}\n",
    "    \\frac{1}{2} & 0 & 0 \\\\\n",
    "     -\\frac{1}{2} & \\frac{1}{2} & 0 \\\\\n",
    "      0 & \\frac{1}{4} & \\frac{1}{2} \\\\ \n",
    "        \\end{bmatrix}\\begin{bmatrix}\n",
    "    0 & 1 & -1 \\\\\n",
    "     0 & 0 & -2 \\\\\n",
    "      0 & 0 & 0 \\\\ \n",
    "\\end{bmatrix} = \\begin{bmatrix}\n",
    "    0 & \\frac{1}{2} & -\\frac{1}{2} \\\\\n",
    "     0 & -\\frac{1}{2} & -\\frac{1}{2} \\\\\n",
    "      0 & 0 & -\\frac{1}{2} \\\\ \n",
    "\\end{bmatrix}$$\n",
    "\n",
    "which is an upper triangular matrix. Its eigenvalues are in the diagonal and hence $\\rho(T_{gs})=\\frac{1}{2}<1$, proving that the Gauss-Seidel method converges for this linear system. \n",
    "\n",
    "On the other hand:\n",
    "\n",
    "$$T_{j} = M_j^{-1}N_{j} = \\begin{bmatrix}\n",
    "    \\frac{1}{2} & 0 & 0 \\\\\n",
    "     0 & \\frac{1}{2} & 0 \\\\\n",
    "      0 & 0 & \\frac{1}{2} \\\\ \n",
    "        \\end{bmatrix}\\begin{bmatrix}\n",
    "    0 & 1 & -1 \\\\\n",
    "     -2 & 0 & -2 \\\\\n",
    "      1 & 1 & 0 \\\\ \n",
    "\\end{bmatrix}=\\begin{bmatrix}\n",
    "    0 & \\frac{1}{2} & -\\frac{1}{2} \\\\\n",
    "     -1 & 0 & -1 \\\\\n",
    "      \\frac{1}{2} & \\frac{1}{2} & 0 \\\\ \n",
    "\\end{bmatrix}$$\n",
    "\n",
    "Its characteristic polynomial is: $x^3 + \\frac{5}{4}x\\implies \\rho(T_{j}) = \\frac{\\sqrt{5}}{2}>1$, which proves that the Jacobi method diverges."
   ]
  }
 ],
 "metadata": {
  "kernelspec": {
   "display_name": "Python 3",
   "language": "python",
   "name": "python3"
  },
  "language_info": {
   "codemirror_mode": {
    "name": "ipython",
    "version": 3
   },
   "file_extension": ".py",
   "mimetype": "text/x-python",
   "name": "python",
   "nbconvert_exporter": "python",
   "pygments_lexer": "ipython3",
   "version": "3.8.3"
  }
 },
 "nbformat": 4,
 "nbformat_minor": 4
}
